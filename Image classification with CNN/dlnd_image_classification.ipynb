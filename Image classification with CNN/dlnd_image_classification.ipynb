{
 "cells": [
  {
   "cell_type": "markdown",
   "metadata": {
    "collapsed": true
   },
   "source": [
    "# Image Classification\n",
    "In this project, you'll classify images from the [CIFAR-10 dataset](https://www.cs.toronto.edu/~kriz/cifar.html).  The dataset consists of airplanes, dogs, cats, and other objects. You'll preprocess the images, then train a convolutional neural network on all the samples. The images need to be normalized and the labels need to be one-hot encoded.  You'll get to apply what you learned and build a convolutional, max pooling, dropout, and fully connected layers.  At the end, you'll get to see your neural network's predictions on the sample images.\n",
    "## Get the Data\n",
    "Run the following cell to download the [CIFAR-10 dataset for python](https://www.cs.toronto.edu/~kriz/cifar-10-python.tar.gz)."
   ]
  },
  {
   "cell_type": "code",
   "execution_count": 56,
   "metadata": {},
   "outputs": [
    {
     "name": "stdout",
     "output_type": "stream",
     "text": [
      "All files found!\n"
     ]
    }
   ],
   "source": [
    "\"\"\"\n",
    "DON'T MODIFY ANYTHING IN THIS CELL THAT IS BELOW THIS LINE\n",
    "\"\"\"\n",
    "from urllib.request import urlretrieve\n",
    "from os.path import isfile, isdir\n",
    "from tqdm import tqdm\n",
    "import problem_unittests as tests\n",
    "import tarfile\n",
    "\n",
    "cifar10_dataset_folder_path = 'cifar-10-batches-py'\n",
    "\n",
    "# Use Floyd's cifar-10 dataset if present\n",
    "floyd_cifar10_location = '/input/cifar-10/python.tar.gz'\n",
    "if isfile(floyd_cifar10_location):\n",
    "    tar_gz_path = floyd_cifar10_location\n",
    "else:\n",
    "    tar_gz_path = 'cifar-10-python.tar.gz'\n",
    "\n",
    "class DLProgress(tqdm):\n",
    "    last_block = 0\n",
    "\n",
    "    def hook(self, block_num=1, block_size=1, total_size=None):\n",
    "        self.total = total_size\n",
    "        self.update((block_num - self.last_block) * block_size)\n",
    "        self.last_block = block_num\n",
    "\n",
    "if not isfile(tar_gz_path):\n",
    "    with DLProgress(unit='B', unit_scale=True, miniters=1, desc='CIFAR-10 Dataset') as pbar:\n",
    "        urlretrieve(\n",
    "            'https://www.cs.toronto.edu/~kriz/cifar-10-python.tar.gz',\n",
    "            tar_gz_path,\n",
    "            pbar.hook)\n",
    "\n",
    "if not isdir(cifar10_dataset_folder_path):\n",
    "    with tarfile.open(tar_gz_path) as tar:\n",
    "        tar.extractall()\n",
    "        tar.close()\n",
    "\n",
    "\n",
    "tests.test_folder_path(cifar10_dataset_folder_path)"
   ]
  },
  {
   "cell_type": "markdown",
   "metadata": {},
   "source": [
    "## Explore the Data\n",
    "The dataset is broken into batches to prevent your machine from running out of memory.  The CIFAR-10 dataset consists of 5 batches, named `data_batch_1`, `data_batch_2`, etc.. Each batch contains the labels and images that are one of the following:\n",
    "* airplane\n",
    "* automobile\n",
    "* bird\n",
    "* cat\n",
    "* deer\n",
    "* dog\n",
    "* frog\n",
    "* horse\n",
    "* ship\n",
    "* truck\n",
    "\n",
    "Understanding a dataset is part of making predictions on the data.  Play around with the code cell below by changing the `batch_id` and `sample_id`. The `batch_id` is the id for a batch (1-5). The `sample_id` is the id for a image and label pair in the batch.\n",
    "\n",
    "Ask yourself \"What are all possible labels?\", \"What is the range of values for the image data?\", \"Are the labels in order or random?\".  Answers to questions like these will help you preprocess the data and end up with better predictions."
   ]
  },
  {
   "cell_type": "code",
   "execution_count": 62,
   "metadata": {},
   "outputs": [
    {
     "name": "stdout",
     "output_type": "stream",
     "text": [
      "\n",
      "Stats of batch 4:\n",
      "Samples: 10000\n",
      "Label Counts: {0: 1003, 1: 963, 2: 1041, 3: 976, 4: 1004, 5: 1021, 6: 1004, 7: 981, 8: 1024, 9: 983}\n",
      "First 20 Labels: [0, 6, 0, 2, 7, 2, 1, 2, 4, 1, 5, 6, 6, 3, 1, 3, 5, 5, 8, 1]\n",
      "\n",
      "Example of Image 9999:\n",
      "Image - Min Value: 0 Max Value: 255\n",
      "Image - Shape: (32, 32, 3)\n",
      "Label - Label Id: 8 Name: ship\n"
     ]
    },
    {
     "data": {
      "image/png": "[encoded data removed]",
      "text/plain": [
       "<matplotlib.figure.Figure at 0x7fc6486b38d0>"
      ]
     },
     "metadata": {
      "image/png": {
       "height": 250,
       "width": 253
      }
     },
     "output_type": "display_data"
    }
   ],
   "source": [
    "%matplotlib inline\n",
    "%config InlineBackend.figure_format = 'retina'\n",
    "\n",
    "import helper\n",
    "import numpy as np\n",
    "\n",
    "# Explore the dataset\n",
    "batch_id = 4\n",
    "sample_id = 9999\n",
    "helper.display_stats(cifar10_dataset_folder_path, batch_id, sample_id)"
   ]
  },
  {
   "cell_type": "markdown",
   "metadata": {},
   "source": [
    "## Implement Preprocess Functions\n",
    "### Normalize\n",
    "In the cell below, implement the `normalize` function to take in image data, `x`, and return it as a normalized Numpy array. The values should be in the range of 0 to 1, inclusive.  The return object should be the same shape as `x`."
   ]
  },
  {
   "cell_type": "code",
   "execution_count": null,
   "metadata": {},
   "outputs": [],
   "source": [
    "def normalize(x):\n",
    "    \"\"\"\n",
    "    Normalize a list of sample image data in the range of 0 to 1\n",
    "    : x: List of image data.  The image shape is (32, 32, 3)\n",
    "    : return: Numpy array of normalize data\n",
    "    \"\"\"\n",
    "    # TODO: Implement Function\n",
    "    scaled_min = 0\n",
    "    scaled_max = 1\n",
    "    old_min = 0\n",
    "    old_max = 255\n",
    "    return scaled_min + x / (old_max - old_min) * (scaled_max - scaled_min)\n",
    "\n",
    "\n",
    "\"\"\"\n",
    "DON'T MODIFY ANYTHING IN THIS CELL THAT IS BELOW THIS LINE\n",
    "\"\"\"\n",
    "tests.test_normalize(normalize)"
   ]
  },
  {
   "cell_type": "markdown",
   "metadata": {},
   "source": [
    "### One-hot encode\n",
    "Just like the previous code cell, you'll be implementing a function for preprocessing.  This time, you'll implement the `one_hot_encode` function. The input, `x`, are a list of labels.  Implement the function to return the list of labels as One-Hot encoded Numpy array.  The possible values for labels are 0 to 9. The one-hot encoding function should return the same encoding for each value between each call to `one_hot_encode`.  Make sure to save the map of encodings outside the function.\n",
    "\n",
    "Hint: Don't reinvent the wheel."
   ]
  },
  {
   "cell_type": "code",
   "execution_count": null,
   "metadata": {},
   "outputs": [],
   "source": [
    "from sklearn import preprocessing\n",
    "\n",
    "\n",
    "\n",
    "def one_hot_encode(x):\n",
    "    \"\"\"\n",
    "    One hot encode a list of sample labels. Return a one-hot encoded vector for each label.\n",
    "    : x: List of sample Labels\n",
    "    : return: Numpy array of one-hot encoded labels\n",
    "    \"\"\"\n",
    "    # TODO: Implement Function\n",
    "    return np.eye(10)[x]\n",
    "\n",
    "\n",
    "\"\"\"\n",
    "DON'T MODIFY ANYTHING IN THIS CELL THAT IS BELOW THIS LINE\n",
    "\"\"\"\n",
    "tests.test_one_hot_encode(one_hot_encode)"
   ]
  },
  {
   "cell_type": "markdown",
   "metadata": {},
   "source": [
    "### Randomize Data\n",
    "As you saw from exploring the data above, the order of the samples are randomized.  It doesn't hurt to randomize it again, but you don't need to for this dataset."
   ]
  },
  {
   "cell_type": "markdown",
   "metadata": {},
   "source": [
    "## Preprocess all the data and save it\n",
    "Running the code cell below will preprocess all the CIFAR-10 data and save it to file. The code below also uses 10% of the training data for validation."
   ]
  },
  {
   "cell_type": "code",
   "execution_count": null,
   "metadata": {
    "collapsed": true
   },
   "outputs": [],
   "source": [
    "\"\"\"\n",
    "DON'T MODIFY ANYTHING IN THIS CELL\n",
    "\"\"\"\n",
    "# Preprocess Training, Validation, and Testing Data\n",
    "helper.preprocess_and_save_data(cifar10_dataset_folder_path, normalize, one_hot_encode)"
   ]
  },
  {
   "cell_type": "markdown",
   "metadata": {},
   "source": [
    "# Check Point\n",
    "This is your first checkpoint.  If you ever decide to come back to this notebook or have to restart the notebook, you can start from here.  The preprocessed data has been saved to disk."
   ]
  },
  {
   "cell_type": "code",
   "execution_count": 1,
   "metadata": {
    "collapsed": true
   },
   "outputs": [],
   "source": [
    "\"\"\"\n",
    "DON'T MODIFY ANYTHING IN THIS CELL\n",
    "\"\"\"\n",
    "import pickle\n",
    "import problem_unittests as tests\n",
    "import helper\n",
    "\n",
    "# Load the Preprocessed Validation data\n",
    "valid_features, valid_labels = pickle.load(open('preprocess_validation.p', mode='rb'))"
   ]
  },
  {
   "cell_type": "markdown",
   "metadata": {},
   "source": [
    "## Build the network\n",
    "For the neural network, you'll build each layer into a function.  Most of the code you've seen has been outside of functions. To test your code more thoroughly, we require that you put each layer in a function.  This allows us to give you better feedback and test for simple mistakes using our unittests before you submit your project.\n",
    "\n",
    ">**Note:** If you're finding it hard to dedicate enough time for this course each week, we've provided a small shortcut to this part of the project. In the next couple of problems, you'll have the option to use classes from the [TensorFlow Layers](https://www.tensorflow.org/api_docs/python/tf/layers) or [TensorFlow Layers (contrib)](https://www.tensorflow.org/api_guides/python/contrib.layers) packages to build each layer, except the layers you build in the \"Convolutional and Max Pooling Layer\" section.  TF Layers is similar to Keras's and TFLearn's abstraction to layers, so it's easy to pickup.\n",
    "\n",
    ">However, if you would like to get the most out of this course, try to solve all the problems _without_ using anything from the TF Layers packages. You **can** still use classes from other packages that happen to have the same name as ones you find in TF Layers! For example, instead of using the TF Layers version of the `conv2d` class, [tf.layers.conv2d](https://www.tensorflow.org/api_docs/python/tf/layers/conv2d), you would want to use the TF Neural Network version of `conv2d`, [tf.nn.conv2d](https://www.tensorflow.org/api_docs/python/tf/nn/conv2d). \n",
    "\n",
    "Let's begin!\n",
    "\n",
    "### Input\n",
    "The neural network needs to read the image data, one-hot encoded labels, and dropout keep probability. Implement the following functions\n",
    "* Implement `neural_net_image_input`\n",
    " * Return a [TF Placeholder](https://www.tensorflow.org/api_docs/python/tf/placeholder)\n",
    " * Set the shape using `image_shape` with batch size set to `None`.\n",
    " * Name the TensorFlow placeholder \"x\" using the TensorFlow `name` parameter in the [TF Placeholder](https://www.tensorflow.org/api_docs/python/tf/placeholder).\n",
    "* Implement `neural_net_label_input`\n",
    " * Return a [TF Placeholder](https://www.tensorflow.org/api_docs/python/tf/placeholder)\n",
    " * Set the shape using `n_classes` with batch size set to `None`.\n",
    " * Name the TensorFlow placeholder \"y\" using the TensorFlow `name` parameter in the [TF Placeholder](https://www.tensorflow.org/api_docs/python/tf/placeholder).\n",
    "* Implement `neural_net_keep_prob_input`\n",
    " * Return a [TF Placeholder](https://www.tensorflow.org/api_docs/python/tf/placeholder) for dropout keep probability.\n",
    " * Name the TensorFlow placeholder \"keep_prob\" using the TensorFlow `name` parameter in the [TF Placeholder](https://www.tensorflow.org/api_docs/python/tf/placeholder).\n",
    "\n",
    "These names will be used at the end of the project to load your saved model.\n",
    "\n",
    "Note: `None` for shapes in TensorFlow allow for a dynamic size."
   ]
  },
  {
   "cell_type": "code",
   "execution_count": 2,
   "metadata": {},
   "outputs": [
    {
     "name": "stdout",
     "output_type": "stream",
     "text": [
      "Image Input Tests Passed.\n",
      "Label Input Tests Passed.\n",
      "Keep Prob Tests Passed.\n"
     ]
    }
   ],
   "source": [
    "import tensorflow as tf\n",
    "import numpy as np\n",
    "\n",
    "def neural_net_image_input(image_shape):\n",
    "    \"\"\"\n",
    "    Return a Tensor for a batch of image input\n",
    "    : image_shape: Shape of the images\n",
    "    : return: Tensor for image input.\n",
    "    \"\"\"\n",
    "    return tf.placeholder(tf.float32, shape=[None, *image_shape], name='x')\n",
    "\n",
    "\n",
    "def neural_net_label_input(n_classes):\n",
    "    \"\"\"\n",
    "    Return a Tensor for a batch of label input\n",
    "    : n_classes: Number of classes\n",
    "    : return: Tensor for label input.\n",
    "    \"\"\"\n",
    "    return tf.placeholder(tf.float32, shape=[None, n_classes], name='y')\n",
    "\n",
    "\n",
    "def neural_net_keep_prob_input():\n",
    "    \"\"\"\n",
    "    Return a Tensor for keep probability\n",
    "    : return: Tensor for keep probability.\n",
    "    \"\"\"\n",
    "    return tf.placeholder(tf.float32, name='keep_prob')\n",
    "\n",
    "\n",
    "\"\"\"\n",
    "DON'T MODIFY ANYTHING IN THIS CELL THAT IS BELOW THIS LINE\n",
    "\"\"\"\n",
    "tf.reset_default_graph()\n",
    "tests.test_nn_image_inputs(neural_net_image_input)\n",
    "tests.test_nn_label_inputs(neural_net_label_input)\n",
    "tests.test_nn_keep_prob_inputs(neural_net_keep_prob_input)"
   ]
  },
  {
   "cell_type": "markdown",
   "metadata": {},
   "source": [
    "### Convolution and Max Pooling Layer\n",
    "Convolution layers have a lot of success with images. For this code cell, you should implement the function `conv2d_maxpool` to apply convolution then max pooling:\n",
    "* Create the weight and bias using `conv_ksize`, `conv_num_outputs` and the shape of `x_tensor`.\n",
    "* Apply a convolution to `x_tensor` using weight and `conv_strides`.\n",
    " * We recommend you use same padding, but you're welcome to use any padding.\n",
    "* Add bias\n",
    "* Add a nonlinear activation to the convolution.\n",
    "* Apply Max Pooling using `pool_ksize` and `pool_strides`.\n",
    " * We recommend you use same padding, but you're welcome to use any padding.\n",
    "\n",
    "**Note:** You **can't** use [TensorFlow Layers](https://www.tensorflow.org/api_docs/python/tf/layers) or [TensorFlow Layers (contrib)](https://www.tensorflow.org/api_guides/python/contrib.layers) for **this** layer, but you can still use TensorFlow's [Neural Network](https://www.tensorflow.org/api_docs/python/tf/nn) package. You may still use the shortcut option for all the **other** layers."
   ]
  },
  {
   "cell_type": "code",
   "execution_count": 68,
   "metadata": {},
   "outputs": [
    {
     "name": "stdout",
     "output_type": "stream",
     "text": [
      "Tests Passed\n"
     ]
    }
   ],
   "source": [
    "def conv2d_maxpool(x_tensor, conv_num_outputs, conv_ksize, conv_strides, pool_ksize, pool_strides):\n",
    "    \"\"\"\n",
    "    Apply convolution then max pooling to x_tensor\n",
    "    :param x_tensor: TensorFlow Tensor\n",
    "    :param conv_num_outputs: Number of outputs for the convolutional layer\n",
    "    :param conv_ksize: kernal size 2-D Tuple for the convolutional layer\n",
    "    :param conv_strides: Stride 2-D Tuple for convolution\n",
    "    :param pool_ksize: kernal size 2-D Tuple for pool\n",
    "    :param pool_strides: Stride 2-D Tuple for pool\n",
    "    : return: A tensor that represents convolution and max pooling of x_tensor\n",
    "    \"\"\"\n",
    "    # Initialize weights and biases\n",
    "    weights = tf.Variable(\n",
    "        tf.truncated_normal(\n",
    "            [conv_ksize[0], conv_ksize[1], x_tensor.shape[-1].value, conv_num_outputs],\n",
    "            stddev=0.1\n",
    "        )\n",
    "    )\n",
    "    \n",
    "    biases = tf.Variable(tf.zeros(conv_num_outputs))\n",
    "    \n",
    "    # Apply convouttion\n",
    "    conv_layer = tf.nn.conv2d(\n",
    "        x_tensor, \n",
    "        weights, \n",
    "        strides=[1, *conv_strides, 1], \n",
    "        padding='SAME')\n",
    "    conv_layer = tf.nn.bias_add(conv_layer, biases)\n",
    "    conv_layer = tf.nn.relu(conv_layer)\n",
    "    \n",
    "    # Apply max pooling\n",
    "    conv_layer = tf.nn.max_pool(\n",
    "        conv_layer, \n",
    "        ksize=[1, *pool_ksize, 1], \n",
    "        strides=[1, *pool_strides, 1],\n",
    "        padding='SAME'\n",
    "    )\n",
    "    \n",
    "    return conv_layer\n",
    "\n",
    "\n",
    "\"\"\"\n",
    "DON'T MODIFY ANYTHING IN THIS CELL THAT IS BELOW THIS LINE\n",
    "\"\"\"\n",
    "tests.test_con_pool(conv2d_maxpool)"
   ]
  },
  {
   "cell_type": "markdown",
   "metadata": {},
   "source": [
    "### Flatten Layer\n",
    "Implement the `flatten` function to change the dimension of `x_tensor` from a 4-D tensor to a 2-D tensor.  The output should be the shape (*Batch Size*, *Flattened Image Size*). Shortcut option: you can use classes from the [TensorFlow Layers](https://www.tensorflow.org/api_docs/python/tf/layers) or [TensorFlow Layers (contrib)](https://www.tensorflow.org/api_guides/python/contrib.layers) packages for this layer. For more of a challenge, only use other TensorFlow packages."
   ]
  },
  {
   "cell_type": "code",
   "execution_count": 69,
   "metadata": {},
   "outputs": [
    {
     "name": "stdout",
     "output_type": "stream",
     "text": [
      "Tests Passed\n"
     ]
    }
   ],
   "source": [
    "def flatten(x_tensor):\n",
    "    \"\"\"\n",
    "    Flatten x_tensor to (Batch Size, Flattened Image Size)\n",
    "    : x_tensor: A tensor of size (Batch Size, ...), where ... are the image dimensions.\n",
    "    : return: A tensor of size (Batch Size, Flattened Image Size).\n",
    "    \"\"\"\n",
    "    return tf.reshape(x_tensor, [-1, x_tensor.shape[1:].num_elements()])\n",
    "\n",
    "\n",
    "\"\"\"\n",
    "DON'T MODIFY ANYTHING IN THIS CELL THAT IS BELOW THIS LINE\n",
    "\"\"\"\n",
    "tests.test_flatten(flatten)"
   ]
  },
  {
   "cell_type": "markdown",
   "metadata": {},
   "source": [
    "### Fully-Connected Layer\n",
    "Implement the `fully_conn` function to apply a fully connected layer to `x_tensor` with the shape (*Batch Size*, *num_outputs*). Shortcut option: you can use classes from the [TensorFlow Layers](https://www.tensorflow.org/api_docs/python/tf/layers) or [TensorFlow Layers (contrib)](https://www.tensorflow.org/api_guides/python/contrib.layers) packages for this layer. For more of a challenge, only use other TensorFlow packages."
   ]
  },
  {
   "cell_type": "code",
   "execution_count": 70,
   "metadata": {},
   "outputs": [
    {
     "name": "stdout",
     "output_type": "stream",
     "text": [
      "Tests Passed\n"
     ]
    }
   ],
   "source": [
    "def fully_conn(x_tensor, num_outputs):\n",
    "    \"\"\"\n",
    "    Apply a fully connected layer to x_tensor using weight and bias\n",
    "    : x_tensor: A 2-D tensor where the first dimension is batch size.\n",
    "    : num_outputs: The number of output that the new tensor should be.\n",
    "    : return: A 2-D tensor where the second dimension is num_outputs.\n",
    "    \"\"\"\n",
    "    batch_size = x_tensor.shape[1].value\n",
    "    weights = tf.Variable(tf.truncated_normal([batch_size, num_outputs], stddev=0.1))\n",
    "    biases = tf.Variable(tf.zeros(num_outputs))\n",
    "                         \n",
    "    fully_conn_layer = tf.add(tf.matmul(x_tensor, weights), biases)\n",
    "    fully_conn_layer = tf.nn.relu(fully_conn_layer)\n",
    "    \n",
    "    return fully_conn_layer\n",
    "\n",
    "\n",
    "\"\"\"\n",
    "DON'T MODIFY ANYTHING IN THIS CELL THAT IS BELOW THIS LINE\n",
    "\"\"\"\n",
    "tests.test_fully_conn(fully_conn)"
   ]
  },
  {
   "cell_type": "markdown",
   "metadata": {},
   "source": [
    "### Output Layer\n",
    "Implement the `output` function to apply a fully connected layer to `x_tensor` with the shape (*Batch Size*, *num_outputs*). Shortcut option: you can use classes from the [TensorFlow Layers](https://www.tensorflow.org/api_docs/python/tf/layers) or [TensorFlow Layers (contrib)](https://www.tensorflow.org/api_guides/python/contrib.layers) packages for this layer. For more of a challenge, only use other TensorFlow packages.\n",
    "\n",
    "**Note:** Activation, softmax, or cross entropy should **not** be applied to this."
   ]
  },
  {
   "cell_type": "code",
   "execution_count": 71,
   "metadata": {},
   "outputs": [
    {
     "name": "stdout",
     "output_type": "stream",
     "text": [
      "Tests Passed\n"
     ]
    }
   ],
   "source": [
    "def output(x_tensor, num_outputs):\n",
    "    \"\"\"\n",
    "    Apply a output layer to x_tensor using weight and bias\n",
    "    : x_tensor: A 2-D tensor where the first dimension is batch size.\n",
    "    : num_outputs: The number of output that the new tensor should be.\n",
    "    : return: A 2-D tensor where the second dimension is num_outputs.\n",
    "    \"\"\"\n",
    "    batch_size = x_tensor.shape[1].value\n",
    "    weights = tf.Variable(tf.truncated_normal([batch_size, num_outputs], stddev=0.1))\n",
    "    biases = tf.Variable(tf.zeros(num_outputs))\n",
    "    \n",
    "    return tf.add(tf.matmul(x_tensor, weights), biases) \n",
    "\n",
    "\n",
    "\"\"\"\n",
    "DON'T MODIFY ANYTHING IN THIS CELL THAT IS BELOW THIS LINE\n",
    "\"\"\"\n",
    "tests.test_output(output)"
   ]
  },
  {
   "cell_type": "markdown",
   "metadata": {},
   "source": [
    "### Create Convolutional Model\n",
    "Implement the function `conv_net` to create a convolutional neural network model. The function takes in a batch of images, `x`, and outputs logits.  Use the layers you created above to create this model:\n",
    "\n",
    "* Apply 1, 2, or 3 Convolution and Max Pool layers\n",
    "* Apply a Flatten Layer\n",
    "* Apply 1, 2, or 3 Fully Connected Layers\n",
    "* Apply an Output Layer\n",
    "* Return the output\n",
    "* Apply [TensorFlow's Dropout](https://www.tensorflow.org/api_docs/python/tf/nn/dropout) to one or more layers in the model using `keep_prob`. "
   ]
  },
  {
   "cell_type": "code",
   "execution_count": 72,
   "metadata": {},
   "outputs": [
    {
     "name": "stdout",
     "output_type": "stream",
     "text": [
      "Neural Network Built!\n"
     ]
    }
   ],
   "source": [
    "def conv_net(x, keep_prob):\n",
    "    \"\"\"\n",
    "    Create a convolutional neural network model\n",
    "    : x: Placeholder tensor that holds image data.\n",
    "    : keep_prob: Placeholder tensor that hold dropout keep probability.\n",
    "    : return: Tensor that represents logits\n",
    "    \"\"\"\n",
    "    conv_num_outputs = [32, 64, 128]\n",
    "    conv_ksizes = [(5, 5), (3, 3), (3, 3)]\n",
    "    \n",
    "    conv_strides = (1, 1)\n",
    "    pool_ksize = (2, 2)\n",
    "    pool_strides = (2, 2)    \n",
    "    shared_params = [conv_strides, pool_ksize, pool_strides]\n",
    "    \n",
    "    # Apply 3 convolution and max pool layers\n",
    "    conv_layer_1 = conv2d_maxpool(x, conv_num_outputs[0], conv_ksizes[0], *shared_params)\n",
    "    \n",
    "    conv_layer_2 = conv2d_maxpool(conv_layer_1, conv_num_outputs[1], conv_ksizes[1], *shared_params)\n",
    "    \n",
    "    conv_layer_3 = conv2d_maxpool(conv_layer_2, conv_num_outputs[2], conv_ksizes[2], *shared_params)\n",
    "\n",
    "    # Apply a flatten layer\n",
    "    flatten_layer = flatten(conv_layer_3)\n",
    "    \n",
    "    # Apply a fully connected layers\n",
    "    fully_conn_layer_1 = fully_conn(flatten_layer, 512)\n",
    "    fully_conn_layer_1 = tf.nn.dropout(fully_conn_layer_1, keep_prob)\n",
    "    \n",
    "    fully_conn_layer_2 = fully_conn(fully_conn_layer_1, 512)\n",
    "    fully_conn_layer_2 = tf.nn.dropout(fully_conn_layer_1, keep_prob)\n",
    "    \n",
    "    # Apply an output layer\n",
    "    num_outputs = 10 # 10 classes\n",
    "    output_layer = output(fully_conn_layer_2, num_outputs)\n",
    "    \n",
    "    return output_layer\n",
    "\n",
    "\n",
    "\"\"\"\n",
    "DON'T MODIFY ANYTHING IN THIS CELL THAT IS BELOW THIS LINE\n",
    "\"\"\"\n",
    "\n",
    "##############################\n",
    "## Build the Neural Network ##\n",
    "##############################\n",
    "\n",
    "# Remove previous weights, bias, inputs, etc..\n",
    "tf.reset_default_graph()\n",
    "\n",
    "# Inputs\n",
    "x = neural_net_image_input((32, 32, 3))\n",
    "y = neural_net_label_input(10)\n",
    "keep_prob = neural_net_keep_prob_input()\n",
    "\n",
    "# Model\n",
    "logits = conv_net(x, keep_prob)\n",
    "\n",
    "# Name logits Tensor, so that is can be loaded from disk after training\n",
    "logits = tf.identity(logits, name='logits')\n",
    "\n",
    "# Loss and Optimizer\n",
    "cost = tf.reduce_mean(tf.nn.softmax_cross_entropy_with_logits(logits=logits, labels=y))\n",
    "optimizer = tf.train.AdamOptimizer().minimize(cost)\n",
    "\n",
    "# Accuracy\n",
    "correct_pred = tf.equal(tf.argmax(logits, 1), tf.argmax(y, 1))\n",
    "accuracy = tf.reduce_mean(tf.cast(correct_pred, tf.float32), name='accuracy')\n",
    "\n",
    "tests.test_conv_net(conv_net)"
   ]
  },
  {
   "cell_type": "markdown",
   "metadata": {},
   "source": [
    "## Train the Neural Network\n",
    "### Single Optimization\n",
    "Implement the function `train_neural_network` to do a single optimization.  The optimization should use `optimizer` to optimize in `session` with a `feed_dict` of the following:\n",
    "* `x` for image input\n",
    "* `y` for labels\n",
    "* `keep_prob` for keep probability for dropout\n",
    "\n",
    "This function will be called for each batch, so `tf.global_variables_initializer()` has already been called.\n",
    "\n",
    "Note: Nothing needs to be returned. This function is only optimizing the neural network."
   ]
  },
  {
   "cell_type": "code",
   "execution_count": 73,
   "metadata": {},
   "outputs": [
    {
     "name": "stdout",
     "output_type": "stream",
     "text": [
      "Tests Passed\n"
     ]
    }
   ],
   "source": [
    "def train_neural_network(session, optimizer, keep_probability, feature_batch, label_batch):\n",
    "    \"\"\"\n",
    "    Optimize the session on a batch of images and labels\n",
    "    : session: Current TensorFlow session\n",
    "    : optimizer: TensorFlow optimizer function\n",
    "    : keep_probability: keep probability\n",
    "    : feature_batch: Batch of Numpy image data\n",
    "    : label_batch: Batch of Numpy label data\n",
    "    \"\"\"\n",
    "    session.run(optimizer, feed_dict={x: feature_batch, y: label_batch, keep_prob: keep_probability})\n",
    "\n",
    "\n",
    "\"\"\"\n",
    "DON'T MODIFY ANYTHING IN THIS CELL THAT IS BELOW THIS LINE\n",
    "\"\"\"\n",
    "tests.test_train_nn(train_neural_network)"
   ]
  },
  {
   "cell_type": "markdown",
   "metadata": {},
   "source": [
    "### Show Stats\n",
    "Implement the function `print_stats` to print loss and validation accuracy.  Use the global variables `valid_features` and `valid_labels` to calculate validation accuracy.  Use a keep probability of `1.0` to calculate the loss and validation accuracy."
   ]
  },
  {
   "cell_type": "code",
   "execution_count": 74,
   "metadata": {
    "collapsed": true
   },
   "outputs": [],
   "source": [
    "def print_stats(session, feature_batch, label_batch, cost, accuracy):\n",
    "    \"\"\"\n",
    "    Print information about loss and validation accuracy\n",
    "    : session: Current TensorFlow session\n",
    "    : feature_batch: Batch of Numpy image data\n",
    "    : label_batch: Batch of Numpy label data\n",
    "    : cost: TensorFlow cost function\n",
    "    : accuracy: TensorFlow accuracy function\n",
    "    \"\"\"\n",
    "    loss = session.run(cost, feed_dict={x: feature_batch, y: label_batch, keep_prob: 1.0})\n",
    "    accuracy = session.run(accuracy, feed_dict={x: valid_features, y: valid_labels, keep_prob: 1.0})\n",
    "    print(\"Loss: {} Accuracy: {}\".format(loss, accuracy))"
   ]
  },
  {
   "cell_type": "markdown",
   "metadata": {},
   "source": [
    "### Hyperparameters\n",
    "Tune the following parameters:\n",
    "* Set `epochs` to the number of iterations until the network stops learning or start overfitting\n",
    "* Set `batch_size` to the highest number that your machine has memory for.  Most people set them to common sizes of memory:\n",
    " * 64\n",
    " * 128\n",
    " * 256\n",
    " * ...\n",
    "* Set `keep_probability` to the probability of keeping a node using dropout"
   ]
  },
  {
   "cell_type": "code",
   "execution_count": 75,
   "metadata": {
    "collapsed": true
   },
   "outputs": [],
   "source": [
    "# TODO: Tune Parameters\n",
    "epochs = 40\n",
    "batch_size = 256\n",
    "keep_probability = 0.5"
   ]
  },
  {
   "cell_type": "markdown",
   "metadata": {},
   "source": [
    "### Train on a Single CIFAR-10 Batch\n",
    "Instead of training the neural network on all the CIFAR-10 batches of data, let's use a single batch. This should save time while you iterate on the model to get a better accuracy.  Once the final validation accuracy is 50% or greater, run the model on all the data in the next section."
   ]
  },
  {
   "cell_type": "code",
   "execution_count": 76,
   "metadata": {},
   "outputs": [
    {
     "name": "stdout",
     "output_type": "stream",
     "text": [
      "Checking the Training on a Single Batch...\n",
      "Epoch  1, CIFAR-10 Batch 1:  Loss: 2.102248430252075 Accuracy: 0.3317999839782715\n",
      "Epoch  2, CIFAR-10 Batch 1:  Loss: 1.8927247524261475 Accuracy: 0.384399950504303\n",
      "Epoch  3, CIFAR-10 Batch 1:  Loss: 1.6349141597747803 Accuracy: 0.43279996514320374\n",
      "Epoch  4, CIFAR-10 Batch 1:  Loss: 1.4091780185699463 Accuracy: 0.4651999771595001\n",
      "Epoch  5, CIFAR-10 Batch 1:  Loss: 1.232361912727356 Accuracy: 0.491599977016449\n",
      "Epoch  6, CIFAR-10 Batch 1:  Loss: 1.1376276016235352 Accuracy: 0.4957999587059021\n",
      "Epoch  7, CIFAR-10 Batch 1:  Loss: 0.9856115579605103 Accuracy: 0.5225999355316162\n",
      "Epoch  8, CIFAR-10 Batch 1:  Loss: 0.889532208442688 Accuracy: 0.5281999707221985\n",
      "Epoch  9, CIFAR-10 Batch 1:  Loss: 0.7769481539726257 Accuracy: 0.5357999801635742\n",
      "Epoch 10, CIFAR-10 Batch 1:  Loss: 0.6738842129707336 Accuracy: 0.5507999658584595\n",
      "Epoch 11, CIFAR-10 Batch 1:  Loss: 0.5966615080833435 Accuracy: 0.5491999387741089\n",
      "Epoch 12, CIFAR-10 Batch 1:  Loss: 0.5375953912734985 Accuracy: 0.5665999054908752\n",
      "Epoch 13, CIFAR-10 Batch 1:  Loss: 0.4910929799079895 Accuracy: 0.578999936580658\n",
      "Epoch 14, CIFAR-10 Batch 1:  Loss: 0.4346950352191925 Accuracy: 0.5811999440193176\n",
      "Epoch 15, CIFAR-10 Batch 1:  Loss: 0.4227381944656372 Accuracy: 0.579599916934967\n",
      "Epoch 16, CIFAR-10 Batch 1:  Loss: 0.3397328853607178 Accuracy: 0.5969998836517334\n",
      "Epoch 17, CIFAR-10 Batch 1:  Loss: 0.29722005128860474 Accuracy: 0.6095999479293823\n",
      "Epoch 18, CIFAR-10 Batch 1:  Loss: 0.2565959095954895 Accuracy: 0.607999861240387\n",
      "Epoch 19, CIFAR-10 Batch 1:  Loss: 0.20007196068763733 Accuracy: 0.6033999919891357\n",
      "Epoch 20, CIFAR-10 Batch 1:  Loss: 0.2091984748840332 Accuracy: 0.5971999168395996\n",
      "Epoch 21, CIFAR-10 Batch 1:  Loss: 0.1465909779071808 Accuracy: 0.6303999423980713\n",
      "Epoch 22, CIFAR-10 Batch 1:  Loss: 0.11622713506221771 Accuracy: 0.6239998936653137\n",
      "Epoch 23, CIFAR-10 Batch 1:  Loss: 0.11623840779066086 Accuracy: 0.6135998964309692\n",
      "Epoch 24, CIFAR-10 Batch 1:  Loss: 0.09436218440532684 Accuracy: 0.6123998761177063\n",
      "Epoch 25, CIFAR-10 Batch 1:  Loss: 0.0750320702791214 Accuracy: 0.6087998747825623\n",
      "Epoch 26, CIFAR-10 Batch 1:  Loss: 0.0594412237405777 Accuracy: 0.6167999505996704\n",
      "Epoch 27, CIFAR-10 Batch 1:  Loss: 0.06444680690765381 Accuracy: 0.6185998916625977\n",
      "Epoch 28, CIFAR-10 Batch 1:  Loss: 0.06241629645228386 Accuracy: 0.5993999242782593\n",
      "Epoch 29, CIFAR-10 Batch 1:  Loss: 0.07785475254058838 Accuracy: 0.5911998748779297\n",
      "Epoch 30, CIFAR-10 Batch 1:  Loss: 0.061969831585884094 Accuracy: 0.5913998484611511\n",
      "Epoch 31, CIFAR-10 Batch 1:  Loss: 0.04650092497467995 Accuracy: 0.6267999410629272\n",
      "Epoch 32, CIFAR-10 Batch 1:  Loss: 0.034882429987192154 Accuracy: 0.6329998970031738\n",
      "Epoch 33, CIFAR-10 Batch 1:  Loss: 0.02820887789130211 Accuracy: 0.6367998719215393\n",
      "Epoch 34, CIFAR-10 Batch 1:  Loss: 0.023014508187770844 Accuracy: 0.6359999179840088\n",
      "Epoch 35, CIFAR-10 Batch 1:  Loss: 0.02147621288895607 Accuracy: 0.6281998753547668\n",
      "Epoch 36, CIFAR-10 Batch 1:  Loss: 0.02464616298675537 Accuracy: 0.603399932384491\n",
      "Epoch 37, CIFAR-10 Batch 1:  Loss: 0.01644086465239525 Accuracy: 0.6281998753547668\n",
      "Epoch 38, CIFAR-10 Batch 1:  Loss: 0.011016909964382648 Accuracy: 0.6309998631477356\n",
      "Epoch 39, CIFAR-10 Batch 1:  Loss: 0.007620098534971476 Accuracy: 0.6417999267578125\n",
      "Epoch 40, CIFAR-10 Batch 1:  Loss: 0.009756477549672127 Accuracy: 0.6321998834609985\n"
     ]
    }
   ],
   "source": [
    "\"\"\"\n",
    "DON'T MODIFY ANYTHING IN THIS CELL\n",
    "\"\"\"\n",
    "print('Checking the Training on a Single Batch...')\n",
    "with tf.Session() as sess:\n",
    "    # Initializing the variables\n",
    "    sess.run(tf.global_variables_initializer())\n",
    "    \n",
    "    # Training cycle\n",
    "    for epoch in range(epochs):\n",
    "        batch_i = 1\n",
    "        for batch_features, batch_labels in helper.load_preprocess_training_batch(batch_i, batch_size):\n",
    "            train_neural_network(sess, optimizer, keep_probability, batch_features, batch_labels)\n",
    "        print('Epoch {:>2}, CIFAR-10 Batch {}:  '.format(epoch + 1, batch_i), end='')\n",
    "        print_stats(sess, batch_features, batch_labels, cost, accuracy)"
   ]
  },
  {
   "cell_type": "markdown",
   "metadata": {},
   "source": [
    "### Fully Train the Model\n",
    "Now that you got a good accuracy with a single CIFAR-10 batch, try it with all five batches."
   ]
  },
  {
   "cell_type": "code",
   "execution_count": 77,
   "metadata": {},
   "outputs": [
    {
     "name": "stdout",
     "output_type": "stream",
     "text": [
      "Training...\n",
      "Epoch  1, CIFAR-10 Batch 1:  Loss: 2.096043109893799 Accuracy: 0.28380000591278076\n",
      "Epoch  1, CIFAR-10 Batch 2:  Loss: 1.8963289260864258 Accuracy: 0.3662000000476837\n",
      "Epoch  1, CIFAR-10 Batch 3:  Loss: 1.5961246490478516 Accuracy: 0.40779995918273926\n",
      "Epoch  1, CIFAR-10 Batch 4:  Loss: 1.6597483158111572 Accuracy: 0.4339999556541443\n",
      "Epoch  1, CIFAR-10 Batch 5:  Loss: 1.5876121520996094 Accuracy: 0.4449999928474426\n",
      "Epoch  2, CIFAR-10 Batch 1:  Loss: 1.6149685382843018 Accuracy: 0.47819995880126953\n",
      "Epoch  2, CIFAR-10 Batch 2:  Loss: 1.5437867641448975 Accuracy: 0.4819999635219574\n",
      "Epoch  2, CIFAR-10 Batch 3:  Loss: 1.2077642679214478 Accuracy: 0.4691999554634094\n",
      "Epoch  2, CIFAR-10 Batch 4:  Loss: 1.3732061386108398 Accuracy: 0.5157999396324158\n",
      "Epoch  2, CIFAR-10 Batch 5:  Loss: 1.3088641166687012 Accuracy: 0.5221999287605286\n",
      "Epoch  3, CIFAR-10 Batch 1:  Loss: 1.3319265842437744 Accuracy: 0.5297999382019043\n",
      "Epoch  3, CIFAR-10 Batch 2:  Loss: 1.420546293258667 Accuracy: 0.5225999355316162\n",
      "Epoch  3, CIFAR-10 Batch 3:  Loss: 1.0252763032913208 Accuracy: 0.5203999280929565\n",
      "Epoch  3, CIFAR-10 Batch 4:  Loss: 1.1385293006896973 Accuracy: 0.5487999320030212\n",
      "Epoch  3, CIFAR-10 Batch 5:  Loss: 1.1389763355255127 Accuracy: 0.5589999556541443\n",
      "Epoch  4, CIFAR-10 Batch 1:  Loss: 1.0756523609161377 Accuracy: 0.5547999739646912\n",
      "Epoch  4, CIFAR-10 Batch 2:  Loss: 1.1464471817016602 Accuracy: 0.5555999279022217\n",
      "Epoch  4, CIFAR-10 Batch 3:  Loss: 0.8069778680801392 Accuracy: 0.5767999291419983\n",
      "Epoch  4, CIFAR-10 Batch 4:  Loss: 0.9939842820167542 Accuracy: 0.5815998911857605\n",
      "Epoch  4, CIFAR-10 Batch 5:  Loss: 0.9578030109405518 Accuracy: 0.5917999148368835\n",
      "Epoch  5, CIFAR-10 Batch 1:  Loss: 0.9246839284896851 Accuracy: 0.5987998843193054\n",
      "Epoch  5, CIFAR-10 Batch 2:  Loss: 0.9173240661621094 Accuracy: 0.5781999826431274\n",
      "Epoch  5, CIFAR-10 Batch 3:  Loss: 0.6669145822525024 Accuracy: 0.6025999188423157\n",
      "Epoch  5, CIFAR-10 Batch 4:  Loss: 0.8288262486457825 Accuracy: 0.6047999262809753\n",
      "Epoch  5, CIFAR-10 Batch 5:  Loss: 0.848689079284668 Accuracy: 0.5947999358177185\n",
      "Epoch  6, CIFAR-10 Batch 1:  Loss: 0.8068505525588989 Accuracy: 0.614599883556366\n",
      "Epoch  6, CIFAR-10 Batch 2:  Loss: 0.7773814797401428 Accuracy: 0.6177998781204224\n",
      "Epoch  6, CIFAR-10 Batch 3:  Loss: 0.6070288419723511 Accuracy: 0.6307999491691589\n",
      "Epoch  6, CIFAR-10 Batch 4:  Loss: 0.700716495513916 Accuracy: 0.6237999200820923\n",
      "Epoch  6, CIFAR-10 Batch 5:  Loss: 0.7200078368186951 Accuracy: 0.6201998591423035\n",
      "Epoch  7, CIFAR-10 Batch 1:  Loss: 0.7232910394668579 Accuracy: 0.6369998455047607\n",
      "Epoch  7, CIFAR-10 Batch 2:  Loss: 0.6914372444152832 Accuracy: 0.6011999249458313\n",
      "Epoch  7, CIFAR-10 Batch 3:  Loss: 0.47170135378837585 Accuracy: 0.6479998826980591\n",
      "Epoch  7, CIFAR-10 Batch 4:  Loss: 0.5926446914672852 Accuracy: 0.6503998637199402\n",
      "Epoch  7, CIFAR-10 Batch 5:  Loss: 0.5458061099052429 Accuracy: 0.6435999870300293\n",
      "Epoch  8, CIFAR-10 Batch 1:  Loss: 0.6024502515792847 Accuracy: 0.6477998495101929\n",
      "Epoch  8, CIFAR-10 Batch 2:  Loss: 0.49736863374710083 Accuracy: 0.6395999193191528\n",
      "Epoch  8, CIFAR-10 Batch 3:  Loss: 0.3721879720687866 Accuracy: 0.6631999015808105\n",
      "Epoch  8, CIFAR-10 Batch 4:  Loss: 0.49243661761283875 Accuracy: 0.6679998636245728\n",
      "Epoch  8, CIFAR-10 Batch 5:  Loss: 0.4737499952316284 Accuracy: 0.6643999218940735\n",
      "Epoch  9, CIFAR-10 Batch 1:  Loss: 0.5740197896957397 Accuracy: 0.669999897480011\n",
      "Epoch  9, CIFAR-10 Batch 2:  Loss: 0.47587066888809204 Accuracy: 0.6419998407363892\n",
      "Epoch  9, CIFAR-10 Batch 3:  Loss: 0.34178081154823303 Accuracy: 0.6771999001502991\n",
      "Epoch  9, CIFAR-10 Batch 4:  Loss: 0.4073672890663147 Accuracy: 0.6657999157905579\n",
      "Epoch  9, CIFAR-10 Batch 5:  Loss: 0.3818756341934204 Accuracy: 0.6815998554229736\n",
      "Epoch 10, CIFAR-10 Batch 1:  Loss: 0.4885897636413574 Accuracy: 0.67659991979599\n",
      "Epoch 10, CIFAR-10 Batch 2:  Loss: 0.33074089884757996 Accuracy: 0.6891998648643494\n",
      "Epoch 10, CIFAR-10 Batch 3:  Loss: 0.27843135595321655 Accuracy: 0.6823998689651489\n",
      "Epoch 10, CIFAR-10 Batch 4:  Loss: 0.33461546897888184 Accuracy: 0.6819998621940613\n",
      "Epoch 10, CIFAR-10 Batch 5:  Loss: 0.3520979583263397 Accuracy: 0.6843999028205872\n",
      "Epoch 11, CIFAR-10 Batch 1:  Loss: 0.4054247736930847 Accuracy: 0.6885998845100403\n",
      "Epoch 11, CIFAR-10 Batch 2:  Loss: 0.30512887239456177 Accuracy: 0.6961998343467712\n",
      "Epoch 11, CIFAR-10 Batch 3:  Loss: 0.24587178230285645 Accuracy: 0.6871999502182007\n",
      "Epoch 11, CIFAR-10 Batch 4:  Loss: 0.3379153907299042 Accuracy: 0.6809998750686646\n",
      "Epoch 11, CIFAR-10 Batch 5:  Loss: 0.2811790108680725 Accuracy: 0.7011998891830444\n",
      "Epoch 12, CIFAR-10 Batch 1:  Loss: 0.33549168705940247 Accuracy: 0.6817998290061951\n",
      "Epoch 12, CIFAR-10 Batch 2:  Loss: 0.23787923157215118 Accuracy: 0.6989998817443848\n",
      "Epoch 12, CIFAR-10 Batch 3:  Loss: 0.19901499152183533 Accuracy: 0.6977998614311218\n",
      "Epoch 12, CIFAR-10 Batch 4:  Loss: 0.2533702552318573 Accuracy: 0.6993998885154724\n",
      "Epoch 12, CIFAR-10 Batch 5:  Loss: 0.23883314430713654 Accuracy: 0.7081998586654663\n",
      "Epoch 13, CIFAR-10 Batch 1:  Loss: 0.282295286655426 Accuracy: 0.7035999298095703\n",
      "Epoch 13, CIFAR-10 Batch 2:  Loss: 0.18065941333770752 Accuracy: 0.7171998023986816\n",
      "Epoch 13, CIFAR-10 Batch 3:  Loss: 0.13531717658042908 Accuracy: 0.7135998606681824\n",
      "Epoch 13, CIFAR-10 Batch 4:  Loss: 0.19404953718185425 Accuracy: 0.7083998918533325\n",
      "Epoch 13, CIFAR-10 Batch 5:  Loss: 0.19947761297225952 Accuracy: 0.7101998329162598\n",
      "Epoch 14, CIFAR-10 Batch 1:  Loss: 0.2403251975774765 Accuracy: 0.7095998525619507\n",
      "Epoch 14, CIFAR-10 Batch 2:  Loss: 0.17216461896896362 Accuracy: 0.7115998864173889\n",
      "Epoch 14, CIFAR-10 Batch 3:  Loss: 0.14638616144657135 Accuracy: 0.7063998579978943\n",
      "Epoch 14, CIFAR-10 Batch 4:  Loss: 0.1682758331298828 Accuracy: 0.7175998091697693\n",
      "Epoch 14, CIFAR-10 Batch 5:  Loss: 0.16760163009166718 Accuracy: 0.7107998728752136\n",
      "Epoch 15, CIFAR-10 Batch 1:  Loss: 0.17958444356918335 Accuracy: 0.7203998565673828\n",
      "Epoch 15, CIFAR-10 Batch 2:  Loss: 0.146770179271698 Accuracy: 0.7215998768806458\n",
      "Epoch 15, CIFAR-10 Batch 3:  Loss: 0.10479556024074554 Accuracy: 0.7129998803138733\n",
      "Epoch 15, CIFAR-10 Batch 4:  Loss: 0.185248464345932 Accuracy: 0.7089999318122864\n",
      "Epoch 15, CIFAR-10 Batch 5:  Loss: 0.16074341535568237 Accuracy: 0.7247998118400574\n",
      "Epoch 16, CIFAR-10 Batch 1:  Loss: 0.14861395955085754 Accuracy: 0.7171998023986816\n",
      "Epoch 16, CIFAR-10 Batch 2:  Loss: 0.14602448046207428 Accuracy: 0.710399866104126\n",
      "Epoch 16, CIFAR-10 Batch 3:  Loss: 0.0773395299911499 Accuracy: 0.7119998931884766\n",
      "Epoch 16, CIFAR-10 Batch 4:  Loss: 0.12625457346439362 Accuracy: 0.7125998735427856\n",
      "Epoch 16, CIFAR-10 Batch 5:  Loss: 0.11217881739139557 Accuracy: 0.7141999006271362\n",
      "Epoch 17, CIFAR-10 Batch 1:  Loss: 0.13463984429836273 Accuracy: 0.7141998410224915\n",
      "Epoch 17, CIFAR-10 Batch 2:  Loss: 0.09481261670589447 Accuracy: 0.7207998633384705\n",
      "Epoch 17, CIFAR-10 Batch 3:  Loss: 0.06475485861301422 Accuracy: 0.7191998362541199\n",
      "Epoch 17, CIFAR-10 Batch 4:  Loss: 0.12597309052944183 Accuracy: 0.7205998301506042\n",
      "Epoch 17, CIFAR-10 Batch 5:  Loss: 0.08717337250709534 Accuracy: 0.7205998301506042\n",
      "Epoch 18, CIFAR-10 Batch 1:  Loss: 0.1434812694787979 Accuracy: 0.7125998139381409\n",
      "Epoch 18, CIFAR-10 Batch 2:  Loss: 0.08378135412931442 Accuracy: 0.7177998423576355\n",
      "Epoch 18, CIFAR-10 Batch 3:  Loss: 0.0518701896071434 Accuracy: 0.723599910736084\n",
      "Epoch 18, CIFAR-10 Batch 4:  Loss: 0.10303002595901489 Accuracy: 0.71399986743927\n",
      "Epoch 18, CIFAR-10 Batch 5:  Loss: 0.09080272912979126 Accuracy: 0.7219998836517334\n",
      "Epoch 19, CIFAR-10 Batch 1:  Loss: 0.10013645887374878 Accuracy: 0.7275998592376709\n",
      "Epoch 19, CIFAR-10 Batch 2:  Loss: 0.06655432283878326 Accuracy: 0.7093998789787292\n",
      "Epoch 19, CIFAR-10 Batch 3:  Loss: 0.04696356877684593 Accuracy: 0.7173998355865479\n",
      "Epoch 19, CIFAR-10 Batch 4:  Loss: 0.08305539190769196 Accuracy: 0.7191998362541199\n",
      "Epoch 19, CIFAR-10 Batch 5:  Loss: 0.07895404100418091 Accuracy: 0.7221999168395996\n",
      "Epoch 20, CIFAR-10 Batch 1:  Loss: 0.09319071471691132 Accuracy: 0.7297998070716858\n",
      "Epoch 20, CIFAR-10 Batch 2:  Loss: 0.06652671098709106 Accuracy: 0.7241998314857483\n",
      "Epoch 20, CIFAR-10 Batch 3:  Loss: 0.04880022257566452 Accuracy: 0.7135999202728271\n"
     ]
    },
    {
     "name": "stdout",
     "output_type": "stream",
     "text": [
      "Epoch 20, CIFAR-10 Batch 4:  Loss: 0.06295711547136307 Accuracy: 0.7193998098373413\n",
      "Epoch 20, CIFAR-10 Batch 5:  Loss: 0.056522831320762634 Accuracy: 0.7355998754501343\n",
      "Epoch 21, CIFAR-10 Batch 1:  Loss: 0.08758410811424255 Accuracy: 0.71399986743927\n",
      "Epoch 21, CIFAR-10 Batch 2:  Loss: 0.05626247823238373 Accuracy: 0.7171998620033264\n",
      "Epoch 21, CIFAR-10 Batch 3:  Loss: 0.038252998143434525 Accuracy: 0.7199998497962952\n",
      "Epoch 21, CIFAR-10 Batch 4:  Loss: 0.05349325016140938 Accuracy: 0.7183998823165894\n",
      "Epoch 21, CIFAR-10 Batch 5:  Loss: 0.05058670416474342 Accuracy: 0.7311998605728149\n",
      "Epoch 22, CIFAR-10 Batch 1:  Loss: 0.07774989306926727 Accuracy: 0.7145998477935791\n",
      "Epoch 22, CIFAR-10 Batch 2:  Loss: 0.042146045714616776 Accuracy: 0.7219998240470886\n",
      "Epoch 22, CIFAR-10 Batch 3:  Loss: 0.03407380357384682 Accuracy: 0.7071998715400696\n",
      "Epoch 22, CIFAR-10 Batch 4:  Loss: 0.05291987583041191 Accuracy: 0.7305998802185059\n",
      "Epoch 22, CIFAR-10 Batch 5:  Loss: 0.03712926805019379 Accuracy: 0.7271998524665833\n",
      "Epoch 23, CIFAR-10 Batch 1:  Loss: 0.07344265282154083 Accuracy: 0.7063997983932495\n",
      "Epoch 23, CIFAR-10 Batch 2:  Loss: 0.04241235554218292 Accuracy: 0.7227998971939087\n",
      "Epoch 23, CIFAR-10 Batch 3:  Loss: 0.03149300068616867 Accuracy: 0.7145998477935791\n",
      "Epoch 23, CIFAR-10 Batch 4:  Loss: 0.04471948742866516 Accuracy: 0.7295998334884644\n",
      "Epoch 23, CIFAR-10 Batch 5:  Loss: 0.02742774970829487 Accuracy: 0.7279998064041138\n",
      "Epoch 24, CIFAR-10 Batch 1:  Loss: 0.052382782101631165 Accuracy: 0.7075998783111572\n",
      "Epoch 24, CIFAR-10 Batch 2:  Loss: 0.03499975800514221 Accuracy: 0.7275998592376709\n",
      "Epoch 24, CIFAR-10 Batch 3:  Loss: 0.03753987327218056 Accuracy: 0.708599865436554\n",
      "Epoch 24, CIFAR-10 Batch 4:  Loss: 0.037544529885053635 Accuracy: 0.7237998843193054\n",
      "Epoch 24, CIFAR-10 Batch 5:  Loss: 0.025201724842190742 Accuracy: 0.7189998626708984\n",
      "Epoch 25, CIFAR-10 Batch 1:  Loss: 0.03761081025004387 Accuracy: 0.7203998565673828\n",
      "Epoch 25, CIFAR-10 Batch 2:  Loss: 0.03165208175778389 Accuracy: 0.7295998334884644\n",
      "Epoch 25, CIFAR-10 Batch 3:  Loss: 0.019313011318445206 Accuracy: 0.7215998768806458\n",
      "Epoch 25, CIFAR-10 Batch 4:  Loss: 0.030173664912581444 Accuracy: 0.7365998029708862\n",
      "Epoch 25, CIFAR-10 Batch 5:  Loss: 0.030298998579382896 Accuracy: 0.7291998863220215\n",
      "Epoch 26, CIFAR-10 Batch 1:  Loss: 0.028680838644504547 Accuracy: 0.7321998476982117\n",
      "Epoch 26, CIFAR-10 Batch 2:  Loss: 0.026896005496382713 Accuracy: 0.731799840927124\n",
      "Epoch 26, CIFAR-10 Batch 3:  Loss: 0.01975330151617527 Accuracy: 0.7351998686790466\n",
      "Epoch 26, CIFAR-10 Batch 4:  Loss: 0.03558669239282608 Accuracy: 0.7307998538017273\n",
      "Epoch 26, CIFAR-10 Batch 5:  Loss: 0.0206281915307045 Accuracy: 0.7341998815536499\n",
      "Epoch 27, CIFAR-10 Batch 1:  Loss: 0.028830192983150482 Accuracy: 0.734799861907959\n",
      "Epoch 27, CIFAR-10 Batch 2:  Loss: 0.03229513019323349 Accuracy: 0.7305998206138611\n",
      "Epoch 27, CIFAR-10 Batch 3:  Loss: 0.014695712365210056 Accuracy: 0.7341997623443604\n",
      "Epoch 27, CIFAR-10 Batch 4:  Loss: 0.016082413494586945 Accuracy: 0.7397998571395874\n",
      "Epoch 27, CIFAR-10 Batch 5:  Loss: 0.01796228438615799 Accuracy: 0.7281998991966248\n",
      "Epoch 28, CIFAR-10 Batch 1:  Loss: 0.02426734007894993 Accuracy: 0.739599883556366\n",
      "Epoch 28, CIFAR-10 Batch 2:  Loss: 0.018562106415629387 Accuracy: 0.7251998782157898\n",
      "Epoch 28, CIFAR-10 Batch 3:  Loss: 0.013687582686543465 Accuracy: 0.7435998320579529\n",
      "Epoch 28, CIFAR-10 Batch 4:  Loss: 0.02731466293334961 Accuracy: 0.7363998889923096\n",
      "Epoch 28, CIFAR-10 Batch 5:  Loss: 0.017362631857395172 Accuracy: 0.7399998903274536\n",
      "Epoch 29, CIFAR-10 Batch 1:  Loss: 0.02802095003426075 Accuracy: 0.7415997982025146\n",
      "Epoch 29, CIFAR-10 Batch 2:  Loss: 0.02210519276559353 Accuracy: 0.7293998599052429\n",
      "Epoch 29, CIFAR-10 Batch 3:  Loss: 0.010764330625534058 Accuracy: 0.7295997738838196\n",
      "Epoch 29, CIFAR-10 Batch 4:  Loss: 0.016358494758605957 Accuracy: 0.7343997955322266\n",
      "Epoch 29, CIFAR-10 Batch 5:  Loss: 0.012492276728153229 Accuracy: 0.7385998964309692\n",
      "Epoch 30, CIFAR-10 Batch 1:  Loss: 0.02070380188524723 Accuracy: 0.7447998523712158\n",
      "Epoch 30, CIFAR-10 Batch 2:  Loss: 0.014741037040948868 Accuracy: 0.7409998774528503\n",
      "Epoch 30, CIFAR-10 Batch 3:  Loss: 0.004974168725311756 Accuracy: 0.7381998300552368\n",
      "Epoch 30, CIFAR-10 Batch 4:  Loss: 0.01138213835656643 Accuracy: 0.7267999053001404\n",
      "Epoch 30, CIFAR-10 Batch 5:  Loss: 0.012038196437060833 Accuracy: 0.7345998287200928\n",
      "Epoch 31, CIFAR-10 Batch 1:  Loss: 0.01208852231502533 Accuracy: 0.7361997961997986\n",
      "Epoch 31, CIFAR-10 Batch 2:  Loss: 0.01663908176124096 Accuracy: 0.7303998470306396\n",
      "Epoch 31, CIFAR-10 Batch 3:  Loss: 0.004382680170238018 Accuracy: 0.7375998497009277\n",
      "Epoch 31, CIFAR-10 Batch 4:  Loss: 0.01641537994146347 Accuracy: 0.7257999181747437\n",
      "Epoch 31, CIFAR-10 Batch 5:  Loss: 0.008928692899644375 Accuracy: 0.736599862575531\n",
      "Epoch 32, CIFAR-10 Batch 1:  Loss: 0.015428317710757256 Accuracy: 0.7395998239517212\n",
      "Epoch 32, CIFAR-10 Batch 2:  Loss: 0.014419619925320148 Accuracy: 0.7211998105049133\n",
      "Epoch 32, CIFAR-10 Batch 3:  Loss: 0.003469397546723485 Accuracy: 0.7299998998641968\n",
      "Epoch 32, CIFAR-10 Batch 4:  Loss: 0.007784368470311165 Accuracy: 0.7227998971939087\n",
      "Epoch 32, CIFAR-10 Batch 5:  Loss: 0.007559779100120068 Accuracy: 0.7369998693466187\n",
      "Epoch 33, CIFAR-10 Batch 1:  Loss: 0.013737164437770844 Accuracy: 0.7365998029708862\n",
      "Epoch 33, CIFAR-10 Batch 2:  Loss: 0.014319797046482563 Accuracy: 0.7333998084068298\n",
      "Epoch 33, CIFAR-10 Batch 3:  Loss: 0.005845284555107355 Accuracy: 0.7273998260498047\n",
      "Epoch 33, CIFAR-10 Batch 4:  Loss: 0.008418316952884197 Accuracy: 0.7249999046325684\n",
      "Epoch 33, CIFAR-10 Batch 5:  Loss: 0.003642842173576355 Accuracy: 0.7349998354911804\n",
      "Epoch 34, CIFAR-10 Batch 1:  Loss: 0.00807404238730669 Accuracy: 0.7281998991966248\n",
      "Epoch 34, CIFAR-10 Batch 2:  Loss: 0.01941167563199997 Accuracy: 0.7235997915267944\n",
      "Epoch 34, CIFAR-10 Batch 3:  Loss: 0.002975531155243516 Accuracy: 0.7377998232841492\n",
      "Epoch 34, CIFAR-10 Batch 4:  Loss: 0.006794747896492481 Accuracy: 0.7283997535705566\n",
      "Epoch 34, CIFAR-10 Batch 5:  Loss: 0.004089421592652798 Accuracy: 0.7283998131752014\n",
      "Epoch 35, CIFAR-10 Batch 1:  Loss: 0.021421074867248535 Accuracy: 0.7071998119354248\n",
      "Epoch 35, CIFAR-10 Batch 2:  Loss: 0.011030856519937515 Accuracy: 0.7271997928619385\n",
      "Epoch 35, CIFAR-10 Batch 3:  Loss: 0.0027060038410127163 Accuracy: 0.7257998585700989\n",
      "Epoch 35, CIFAR-10 Batch 4:  Loss: 0.0035366101656109095 Accuracy: 0.7267998456954956\n",
      "Epoch 35, CIFAR-10 Batch 5:  Loss: 0.003083982039242983 Accuracy: 0.7315998077392578\n",
      "Epoch 36, CIFAR-10 Batch 1:  Loss: 0.005648459307849407 Accuracy: 0.7337998747825623\n",
      "Epoch 36, CIFAR-10 Batch 2:  Loss: 0.009436811320483685 Accuracy: 0.7315999269485474\n",
      "Epoch 36, CIFAR-10 Batch 3:  Loss: 0.0016085070092231035 Accuracy: 0.7425999045372009\n",
      "Epoch 36, CIFAR-10 Batch 4:  Loss: 0.004511161707341671 Accuracy: 0.729999840259552\n",
      "Epoch 36, CIFAR-10 Batch 5:  Loss: 0.002323700115084648 Accuracy: 0.7311999201774597\n",
      "Epoch 37, CIFAR-10 Batch 1:  Loss: 0.004028214141726494 Accuracy: 0.7295998334884644\n",
      "Epoch 37, CIFAR-10 Batch 2:  Loss: 0.006886563263833523 Accuracy: 0.7269999384880066\n",
      "Epoch 37, CIFAR-10 Batch 3:  Loss: 0.003706452902406454 Accuracy: 0.7375998497009277\n",
      "Epoch 37, CIFAR-10 Batch 4:  Loss: 0.0026465286500751972 Accuracy: 0.7275998592376709\n",
      "Epoch 37, CIFAR-10 Batch 5:  Loss: 0.0030593411065638065 Accuracy: 0.7269998788833618\n",
      "Epoch 38, CIFAR-10 Batch 1:  Loss: 0.008605247363448143 Accuracy: 0.7309998273849487\n",
      "Epoch 38, CIFAR-10 Batch 2:  Loss: 0.00454280711710453 Accuracy: 0.7395998239517212\n",
      "Epoch 38, CIFAR-10 Batch 3:  Loss: 0.0015572754200547934 Accuracy: 0.7491998076438904\n",
      "Epoch 38, CIFAR-10 Batch 4:  Loss: 0.004203179385513067 Accuracy: 0.7273998260498047\n",
      "Epoch 38, CIFAR-10 Batch 5:  Loss: 0.006013819947838783 Accuracy: 0.7211998701095581\n",
      "Epoch 39, CIFAR-10 Batch 1:  Loss: 0.004327472299337387 Accuracy: 0.7327998876571655\n",
      "Epoch 39, CIFAR-10 Batch 2:  Loss: 0.002884162124246359 Accuracy: 0.7379997968673706\n",
      "Epoch 39, CIFAR-10 Batch 3:  Loss: 0.0009889574721455574 Accuracy: 0.7311998605728149\n",
      "Epoch 39, CIFAR-10 Batch 4:  Loss: 0.002197152003645897 Accuracy: 0.7379997968673706\n",
      "Epoch 39, CIFAR-10 Batch 5:  Loss: 0.0009315245551988482 Accuracy: 0.7361999154090881\n"
     ]
    },
    {
     "name": "stdout",
     "output_type": "stream",
     "text": [
      "Epoch 40, CIFAR-10 Batch 1:  Loss: 0.004976325202733278 Accuracy: 0.7335999011993408\n",
      "Epoch 40, CIFAR-10 Batch 2:  Loss: 0.004778669215738773 Accuracy: 0.7173998951911926\n",
      "Epoch 40, CIFAR-10 Batch 3:  Loss: 0.0018015056848526 Accuracy: 0.7287998199462891\n",
      "Epoch 40, CIFAR-10 Batch 4:  Loss: 0.0028385785408318043 Accuracy: 0.7359998822212219\n",
      "Epoch 40, CIFAR-10 Batch 5:  Loss: 0.0030307788401842117 Accuracy: 0.7403997778892517\n"
     ]
    }
   ],
   "source": [
    "\"\"\"\n",
    "DON'T MODIFY ANYTHING IN THIS CELL\n",
    "\"\"\"\n",
    "save_model_path = './image_classification'\n",
    "\n",
    "print('Training...')\n",
    "with tf.Session() as sess:\n",
    "    # Initializing the variables\n",
    "    sess.run(tf.global_variables_initializer())\n",
    "    \n",
    "    # Training cycle\n",
    "    for epoch in range(epochs):\n",
    "        # Loop over all batches\n",
    "        n_batches = 5\n",
    "        for batch_i in range(1, n_batches + 1):\n",
    "            for batch_features, batch_labels in helper.load_preprocess_training_batch(batch_i, batch_size):\n",
    "                train_neural_network(sess, optimizer, keep_probability, batch_features, batch_labels)\n",
    "            print('Epoch {:>2}, CIFAR-10 Batch {}:  '.format(epoch + 1, batch_i), end='')\n",
    "            print_stats(sess, batch_features, batch_labels, cost, accuracy)\n",
    "            \n",
    "    # Save Model\n",
    "    saver = tf.train.Saver()\n",
    "    save_path = saver.save(sess, save_model_path)"
   ]
  },
  {
   "cell_type": "markdown",
   "metadata": {},
   "source": [
    "# Checkpoint\n",
    "The model has been saved to disk.\n",
    "## Test Model\n",
    "Test your model against the test dataset.  This will be your final accuracy. You should have an accuracy greater than 50%. If you don't, keep tweaking the model architecture and parameters."
   ]
  },
  {
   "cell_type": "code",
   "execution_count": 78,
   "metadata": {},
   "outputs": [
    {
     "name": "stdout",
     "output_type": "stream",
     "text": [
      "INFO:tensorflow:Restoring parameters from ./image_classification\n",
      "Testing Accuracy: 0.7333984375\n",
      "\n"
     ]
    },
    {
     "data": {
      "image/png": "[encoded data removed]",
      "text/plain": [
       "<matplotlib.figure.Figure at 0x7fc72b04b390>"
      ]
     },
     "metadata": {
      "image/png": {
       "height": 319,
       "width": 355
      }
     },
     "output_type": "display_data"
    }
   ],
   "source": [
    "\"\"\"\n",
    "DON'T MODIFY ANYTHING IN THIS CELL\n",
    "\"\"\"\n",
    "%matplotlib inline\n",
    "%config InlineBackend.figure_format = 'retina'\n",
    "\n",
    "import tensorflow as tf\n",
    "import pickle\n",
    "import helper\n",
    "import random\n",
    "\n",
    "# Set batch size if not already set\n",
    "try:\n",
    "    if batch_size:\n",
    "        pass\n",
    "except NameError:\n",
    "    batch_size = 64\n",
    "\n",
    "save_model_path = './image_classification'\n",
    "n_samples = 4\n",
    "top_n_predictions = 3\n",
    "\n",
    "def test_model():\n",
    "    \"\"\"\n",
    "    Test the saved model against the test dataset\n",
    "    \"\"\"\n",
    "\n",
    "    test_features, test_labels = pickle.load(open('preprocess_test.p', mode='rb'))\n",
    "    loaded_graph = tf.Graph()\n",
    "\n",
    "    with tf.Session(graph=loaded_graph) as sess:\n",
    "        # Load model\n",
    "        loader = tf.train.import_meta_graph(save_model_path + '.meta')\n",
    "        loader.restore(sess, save_model_path)\n",
    "\n",
    "        # Get Tensors from loaded model\n",
    "        loaded_x = loaded_graph.get_tensor_by_name('x:0')\n",
    "        loaded_y = loaded_graph.get_tensor_by_name('y:0')\n",
    "        loaded_keep_prob = loaded_graph.get_tensor_by_name('keep_prob:0')\n",
    "        loaded_logits = loaded_graph.get_tensor_by_name('logits:0')\n",
    "        loaded_acc = loaded_graph.get_tensor_by_name('accuracy:0')\n",
    "        \n",
    "        # Get accuracy in batches for memory limitations\n",
    "        test_batch_acc_total = 0\n",
    "        test_batch_count = 0\n",
    "        \n",
    "        for test_feature_batch, test_label_batch in helper.batch_features_labels(test_features, test_labels, batch_size):\n",
    "            test_batch_acc_total += sess.run(\n",
    "                loaded_acc,\n",
    "                feed_dict={loaded_x: test_feature_batch, loaded_y: test_label_batch, loaded_keep_prob: 1.0})\n",
    "            test_batch_count += 1\n",
    "\n",
    "        print('Testing Accuracy: {}\\n'.format(test_batch_acc_total/test_batch_count))\n",
    "\n",
    "        # Print Random Samples\n",
    "        random_test_features, random_test_labels = tuple(zip(*random.sample(list(zip(test_features, test_labels)), n_samples)))\n",
    "        random_test_predictions = sess.run(\n",
    "            tf.nn.top_k(tf.nn.softmax(loaded_logits), top_n_predictions),\n",
    "            feed_dict={loaded_x: random_test_features, loaded_y: random_test_labels, loaded_keep_prob: 1.0})\n",
    "        helper.display_image_predictions(random_test_features, random_test_labels, random_test_predictions)\n",
    "\n",
    "\n",
    "test_model()"
   ]
  },
  {
   "cell_type": "markdown",
   "metadata": {},
   "source": [
    "## Why 50-80% Accuracy?\n",
    "You might be wondering why you can't get an accuracy any higher. First things first, 50% isn't bad for a simple CNN.  Pure guessing would get you 10% accuracy. However, you might notice people are getting scores [well above 80%](http://rodrigob.github.io/are_we_there_yet/build/classification_datasets_results.html#43494641522d3130).  That's because we haven't taught you all there is to know about neural networks. We still need to cover a few more techniques.\n",
    "## Submitting This Project\n",
    "When submitting this project, make sure to run all the cells before saving the notebook.  Save the notebook file as \"dlnd_image_classification.ipynb\" and save it as a HTML file under \"File\" -> \"Download as\".  Include the \"helper.py\" and \"problem_unittests.py\" files in your submission."
   ]
  }
 ],
 "metadata": {
  "kernelspec": {
   "display_name": "Python 3",
   "language": "python",
   "name": "python3"
  },
  "language_info": {
   "codemirror_mode": {
    "name": "ipython",
    "version": 3
   },
   "file_extension": ".py",
   "mimetype": "text/x-python",
   "name": "python",
   "nbconvert_exporter": "python",
   "pygments_lexer": "ipython3",
   "version": "3.6.2"
  }
 },
 "nbformat": 4,
 "nbformat_minor": 1
}
